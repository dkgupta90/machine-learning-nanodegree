{
 "cells": [
  {
   "cell_type": "code",
   "execution_count": 1,
   "metadata": {},
   "outputs": [],
   "source": [
    "import math"
   ]
  },
  {
   "cell_type": "code",
   "execution_count": 21,
   "metadata": {},
   "outputs": [
    {
     "name": "stdout",
     "output_type": "stream",
     "text": [
      ".\t|\t1\t2\t3\t4\t5\t\n",
      "========================================================\n",
      "\t|\t1 \t2 \t3 \t4 \t5 \t\n",
      "\t|\t2 \t4 \t6 \t8 \t10 \t\n",
      "\t|\t3 \t6 \t9 \t12 \t15 \t\n",
      "\t|\t4 \t8 \t12 \t16 \t20 \t\n",
      "\t|\t5 \t10 \t15 \t20 \t25 \t\n"
     ]
    }
   ],
   "source": [
    "for i in range(-1, 6):\n",
    "    for j in range(-1, 6):\n",
    "        if i == -1 and j == -1:\n",
    "            print(\".\\t|\", end = \"\\t\")\n",
    "        elif i == -1 and j > 0:\n",
    "            print(j, end = \"\\t\")\n",
    "        elif i == 0:\n",
    "            print(\"========\", end=\"\")\n",
    "        elif i > 0:\n",
    "            if  j == -1:\n",
    "                print(\"\\t\", end = \"\")\n",
    "            elif j == 0:\n",
    "                print(\"|\", end = \"\\t\")\n",
    "            elif j > 0:\n",
    "                print(i*j, end = \" \\t\")\n",
    "    print()\n",
    "        "
   ]
  },
  {
   "cell_type": "code",
   "execution_count": null,
   "metadata": {},
   "outputs": [],
   "source": []
  }
 ],
 "metadata": {
  "kernelspec": {
   "display_name": "Python 3",
   "language": "python",
   "name": "python3"
  },
  "language_info": {
   "codemirror_mode": {
    "name": "ipython",
    "version": 3
   },
   "file_extension": ".py",
   "mimetype": "text/x-python",
   "name": "python",
   "nbconvert_exporter": "python",
   "pygments_lexer": "ipython3",
   "version": "3.5.4"
  }
 },
 "nbformat": 4,
 "nbformat_minor": 2
}
